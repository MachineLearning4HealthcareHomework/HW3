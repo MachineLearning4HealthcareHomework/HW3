{
 "cells": [
  {
   "cell_type": "code",
   "execution_count": null,
   "metadata": {},
   "outputs": [],
   "source": [
    "# This file is for benchmarking the performance of Unet with different loss functions "
   ]
  },
  {
   "cell_type": "code",
   "execution_count": 0,
   "metadata": {
    "colab": {},
    "colab_type": "code",
    "id": "FPjFuWyrTm5q"
   },
   "outputs": [],
   "source": [
    "import numpy as np\n",
    "import tensorflow as tf\n",
    "import pandas as pd\n",
    "import matplotlib.pyplot as plt\n",
    "import seaborn as sns\n",
    "\n",
    "from sklearn import metrics\n",
    "from keras.callbacks import ModelCheckpoint\n",
    "from keras.utils import to_categorical\n",
    "import os\n",
    "import sys"
   ]
  },
  {
   "cell_type": "code",
   "execution_count": 0,
   "metadata": {
    "colab": {},
    "colab_type": "code",
    "id": "BQYCploFTvU6"
   },
   "outputs": [],
   "source": [
    "from google.colab import drive\n",
    "drive.mount('/content/gdrive')"
   ]
  },
  {
   "cell_type": "code",
   "execution_count": 0,
   "metadata": {
    "colab": {},
    "colab_type": "code",
    "id": "BIGuQ-AvUNYZ"
   },
   "outputs": [],
   "source": [
    "train_images = np.load(\"/content/gdrive/My Drive/augmented20/images_train.npy\")\n",
    "train_labels = np.load(\"/content/gdrive/My Drive/augmented20/labels_train.npy\")\n"
   ]
  },
  {
   "cell_type": "code",
   "execution_count": 0,
   "metadata": {
    "colab": {},
    "colab_type": "code",
    "id": "tgwb8MhWUwmv"
   },
   "outputs": [],
   "source": [
    "num_samp=10000\n",
    "imgs_np=train_images[0:num_samp,:,:]\n",
    "imgs_np.shape"
   ]
  },
  {
   "cell_type": "code",
   "execution_count": 0,
   "metadata": {
    "colab": {},
    "colab_type": "code",
    "id": "gGQ2eTRdWohr"
   },
   "outputs": [],
   "source": [
    "masks_np=train_labels[0:num_samp,:,:]\n",
    "masks_np.shape"
   ]
  },
  {
   "cell_type": "code",
   "execution_count": 0,
   "metadata": {
    "colab": {},
    "colab_type": "code",
    "id": "KOxYnUThW3vE"
   },
   "outputs": [],
   "source": [
    "x = np.asarray(imgs_np, dtype=np.float32)/imgs_np.max()\n",
    "y= masks_np"
   ]
  },
  {
   "cell_type": "code",
   "execution_count": 0,
   "metadata": {
    "colab": {},
    "colab_type": "code",
    "id": "y_fTXKQ1W_F6"
   },
   "outputs": [],
   "source": [
    "def make_mask(img):\n",
    "    mask = np.zeros((img.shape[0], img.shape[1], 3))\n",
    "    mask[:,:,0] = np.logical_or(mask[:,:,0],(img==0))\n",
    "    mask[:,:,1] = np.logical_or(mask[:,:,1],(img==1))\n",
    "    mask[:,:,2] = np.logical_or(mask[:,:,2],(img==2))\n",
    "    #mask = np.resize(mask,(img.shape[0]*img.shape[1], 3))\n",
    "    return mask"
   ]
  },
  {
   "cell_type": "code",
   "execution_count": 0,
   "metadata": {
    "colab": {},
    "colab_type": "code",
    "id": "0ELwQFXrXDe9"
   },
   "outputs": [],
   "source": [
    "y_mask=np.zeros((y.shape[0], y.shape[1], y.shape[2], 3))\n",
    "for i in range(0, y.shape[0]):\n",
    "    y_mask[i,:,:,:]=make_mask(y[i,:,:])\n",
    "print(x.shape, y_mask.shape)"
   ]
  },
  {
   "cell_type": "code",
   "execution_count": 0,
   "metadata": {
    "colab": {},
    "colab_type": "code",
    "id": "66BcUaCMXHSt"
   },
   "outputs": [],
   "source": [
    "x = x.reshape(x.shape[0], x.shape[1], x.shape[2], 1)\n",
    "#y = y.reshape(y.shape[0], y.shape[1], y.shape[2], 1)\n",
    "x.shape"
   ]
  },
  {
   "cell_type": "code",
   "execution_count": 0,
   "metadata": {
    "colab": {},
    "colab_type": "code",
    "id": "te-wDd5fXLs1"
   },
   "outputs": [],
   "source": [
    "yl=y_mask"
   ]
  },
  {
   "cell_type": "code",
   "execution_count": 0,
   "metadata": {
    "colab": {},
    "colab_type": "code",
    "id": "kDHtfqh3XOw1"
   },
   "outputs": [],
   "source": [
    "from sklearn.model_selection import train_test_split\n",
    "\n",
    "x_train, x_val, y_train, y_val = train_test_split(x, yl, test_size=0.2, random_state=0)\n",
    "\n",
    "print(\"x_train: \", x_train.shape)\n",
    "print(\"y_train: \", y_train.shape)\n",
    "print(\"x_val: \", x_val.shape)\n",
    "print(\"y_val: \", y_val.shape)"
   ]
  },
  {
   "cell_type": "code",
   "execution_count": 0,
   "metadata": {
    "colab": {},
    "colab_type": "code",
    "id": "IR-Xii6fXXbN"
   },
   "outputs": [],
   "source": [
    "!pip install segmentation-models"
   ]
  },
  {
   "cell_type": "code",
   "execution_count": 0,
   "metadata": {
    "colab": {},
    "colab_type": "code",
    "id": "ehaE90PfXdTl"
   },
   "outputs": [],
   "source": [
    "from segmentation_models import Unet \n",
    "from segmentation_models import get_preprocessing\n",
    "from segmentation_models.losses import bce_jaccard_loss, DiceLoss, CategoricalCELoss, CategoricalFocalLoss\n",
    "from segmentation_models.metrics import iou_score"
   ]
  },
  {
   "cell_type": "code",
   "execution_count": 0,
   "metadata": {
    "colab": {},
    "colab_type": "code",
    "id": "gs5w8M9rXjBk"
   },
   "outputs": [],
   "source": [
    "# define number of channels\n",
    "N = x.shape[-1]"
   ]
  },
  {
   "cell_type": "code",
   "execution_count": 0,
   "metadata": {
    "colab": {},
    "colab_type": "code",
    "id": "H_aUwAmOXl8p"
   },
   "outputs": [],
   "source": [
    "model = Unet(backbone_name='vgg16', encoder_weights=None, input_shape=(None, None, N), classes=3, activation ='softmax')"
   ]
  },
  {
   "cell_type": "code",
   "execution_count": 0,
   "metadata": {
    "colab": {},
    "colab_type": "code",
    "id": "i8sISnAdYDuk"
   },
   "outputs": [],
   "source": [
    "model.compile('Adam', loss=CategoricalCELoss(), metrics=[iou_score])\n",
    "#model.compile('Adam', loss=CategoricalFocalLoss(), metrics=[iou_score])\n",
    "#model.compile('Adam', loss=DiceLoss(), metrics=[iou_score])\n",
    "#model.compile('Adam', loss=bce_jaccard_loss, metrics=[iou_score])"
   ]
  },
  {
   "cell_type": "code",
   "execution_count": 0,
   "metadata": {
    "colab": {},
    "colab_type": "code",
    "id": "p61ksGlVYJts"
   },
   "outputs": [],
   "source": [
    "import tensorflow as tf \n",
    "tf.test.gpu_device_name() "
   ]
  },
  {
   "cell_type": "code",
   "execution_count": 0,
   "metadata": {
    "colab": {},
    "colab_type": "code",
    "id": "cc88OAyOYObJ"
   },
   "outputs": [],
   "source": [
    "model.fit(\n",
    "    x=x_train,\n",
    "    y=y_train,\n",
    "    epochs=10,\n",
    "    validation_data=(x_val, y_val),\n",
    ")"
   ]
  },
  {
   "cell_type": "code",
   "execution_count": 0,
   "metadata": {
    "colab": {},
    "colab_type": "code",
    "id": "DY3kV_KaYYnr"
   },
   "outputs": [],
   "source": [
    "#  We reprot the average of metrics on validation data over epaochs and do the comparison of performance of losses"
   ]
  }
 ],
 "metadata": {
  "accelerator": "TPU",
  "colab": {
   "machine_shape": "hm",
   "name": "UnetLoss.ipynb",
   "provenance": []
  },
  "kernelspec": {
   "display_name": "Python 3",
   "language": "python",
   "name": "python3"
  },
  "language_info": {
   "codemirror_mode": {
    "name": "ipython",
    "version": 3
   },
   "file_extension": ".py",
   "mimetype": "text/x-python",
   "name": "python",
   "nbconvert_exporter": "python",
   "pygments_lexer": "ipython3",
   "version": "3.7.3"
  }
 },
 "nbformat": 4,
 "nbformat_minor": 1
}
