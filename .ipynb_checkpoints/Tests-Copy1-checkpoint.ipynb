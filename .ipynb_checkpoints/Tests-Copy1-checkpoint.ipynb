{
 "cells": [
  {
   "cell_type": "code",
   "execution_count": 21,
   "metadata": {},
   "outputs": [],
   "source": [
    "import numpy as np\n",
    "from PIL import Image\n",
    "\n",
    "from sklearn import metrics\n"
   ]
  },
  {
   "cell_type": "code",
   "execution_count": 17,
   "metadata": {},
   "outputs": [
    {
     "data": {
      "text/plain": [
       "[0.5, 0.38888888888888884, 0.3]"
      ]
     },
     "execution_count": 17,
     "metadata": {},
     "output_type": "execute_result"
    }
   ],
   "source": [
    "ytrue = np.array([[2, 1, 1],\n",
    "                   [1, 1, 0]])\n",
    "ypred = np.array([[1, 2, 1],\n",
    "                   [1, 0, 0]])\n",
    "\n",
    "def get_scores(y_true, y_pred):\n",
    "    results=[]\n",
    "    y_true=y_true.flatten()\n",
    "    y_pred=y_pred.flatten()\n",
    "    #Overall precision\n",
    "    results.append(metrics.precision_score(y_true, y_pred, average='micro'))\n",
    "    #Per-class precision\n",
    "    results.append(metrics.precision_score(y_true, y_pred, average='macro'))\n",
    "    #jaccard (right average?)\n",
    "    results.append(metrics.jaccard_score(y_true, y_pred, average='macro'))\n",
    "    return results\n",
    "get_scores(ytrue,ypred)"
   ]
  },
  {
   "cell_type": "code",
   "execution_count": 23,
   "metadata": {},
   "outputs": [
    {
     "ename": "FileNotFoundError",
     "evalue": "[WinError 3] Das System kann den angegebenen Pfad nicht finden: '/project3_data/data/train_images/'",
     "output_type": "error",
     "traceback": [
      "\u001b[1;31m---------------------------------------------------------------------------\u001b[0m",
      "\u001b[1;31mFileNotFoundError\u001b[0m                         Traceback (most recent call last)",
      "\u001b[1;32m<ipython-input-23-c2b60466bf27>\u001b[0m in \u001b[0;36m<module>\u001b[1;34m\u001b[0m\n\u001b[0;32m      9\u001b[0m \u001b[0mrotated_images_path\u001b[0m\u001b[1;33m=\u001b[0m\u001b[1;34m'/project3_data/data/test_images_randomly_rotated/'\u001b[0m\u001b[1;33m\u001b[0m\u001b[1;33m\u001b[0m\u001b[0m\n\u001b[0;32m     10\u001b[0m \u001b[1;33m\u001b[0m\u001b[0m\n\u001b[1;32m---> 11\u001b[1;33m \u001b[1;32mfor\u001b[0m \u001b[0mfile\u001b[0m \u001b[1;32min\u001b[0m \u001b[0mos\u001b[0m\u001b[1;33m.\u001b[0m\u001b[0mlistdir\u001b[0m\u001b[1;33m(\u001b[0m\u001b[0mtrain_images_path\u001b[0m\u001b[1;33m)\u001b[0m\u001b[1;33m:\u001b[0m\u001b[1;33m\u001b[0m\u001b[1;33m\u001b[0m\u001b[0m\n\u001b[0m\u001b[0;32m     12\u001b[0m     \u001b[0mprint\u001b[0m\u001b[1;33m(\u001b[0m\u001b[0mfile\u001b[0m\u001b[1;33m)\u001b[0m\u001b[1;33m\u001b[0m\u001b[1;33m\u001b[0m\u001b[0m\n\u001b[0;32m     13\u001b[0m \u001b[1;33m\u001b[0m\u001b[0m\n",
      "\u001b[1;31mFileNotFoundError\u001b[0m: [WinError 3] Das System kann den angegebenen Pfad nicht finden: '/project3_data/data/train_images/'"
     ]
    }
   ],
   "source": [
    "import os\n",
    "import numpy as np\n",
    "from matplotlib.pyplot import imshow\n",
    "%matplotlib inline\n",
    "\n",
    "train_images_path='/project3_data/data/train_images/'\n",
    "train_labels_path='/project3_data/data/train_labels/'\n",
    "test_images_path='/project3_data/data/test_images/'\n",
    "rotated_images_path='/project3_data/data/test_images_randomly_rotated/'\n",
    "\n",
    "for file in os.listdir(train_images_path):\n",
    "    print(file)"
   ]
  },
  {
   "cell_type": "code",
   "execution_count": null,
   "metadata": {},
   "outputs": [],
   "source": [
    "import json\n",
    "import os\n",
    "import spacy\n",
    "from string import punctuation\n",
    "from nltk import ngrams\n",
    "from gensim.corpora.dictionary import Dictionary\n",
    "\n",
    "for path in paths:\n",
    "    for file in os.listdir(path):\n",
    "        counter=0\n",
    "        file_info=dict()\n",
    "        data = json.load(open(path+'/'+file))\n",
    "        file_info['paper_id']=data['paper_id']\n",
    "        file_info['title']=data['metadata']['title']\n",
    "        paragraphs=data['abstract']+data['body_text']\n",
    "        for paragraph in paragraphs:\n",
    "            paragraph_info=file_info\n",
    "            content=paragraph['text']\n",
    "            paragraph_info['text']=content\n",
    "            tokens=prep(content,preprocessor,translator)\n",
    "            allWords.add_documents(tokens)\n",
    "            paragraph_info['tokens']=tokens\n",
    "            json.dump(paragraph_info, open(return_path+'/'+file_info['paper_id']+str(counter).zfill(3)+'.json', 'w'))\n",
    "            counter+=1\n",
    "        break #still in training phase\n",
    "        \n",
    "#have to add the words of the prior with frequency+=0.\n",
    "#how much frequency should frequencies of priors add up to? 0.5 of just priors and the rest is the standard 1/num_words?\n",
    "\n",
    "#https://jacopofarina.eu/posts/gensim-generator-is-not-iterator/\n",
    "class BoBIterator():\n",
    "    def __init__(self, generator_function):\n",
    "        self.generator_function = generator_function\n",
    "        self.generator = self.generator_function()\n",
    "\n",
    "    def __iter__(self):\n",
    "        # reset the generator\n",
    "        self.generator = self.generator_function()\n",
    "        return self\n",
    "\n",
    "    def __next__(self):\n",
    "        result = next(self.generator)\n",
    "        if result is None:\n",
    "            raise StopIteration\n",
    "        else:\n",
    "            return result\n",
    "\n",
    "def BoB_generator():\n",
    "    for file in os.listdir('parsed_documents'):\n",
    "        yield(json.load(open('parsed_documents'+'/'+file))['text'])#change to BoW"
   ]
  }
 ],
 "metadata": {
  "kernelspec": {
   "display_name": "Python 3",
   "language": "python",
   "name": "python3"
  },
  "language_info": {
   "codemirror_mode": {
    "name": "ipython",
    "version": 3
   },
   "file_extension": ".py",
   "mimetype": "text/x-python",
   "name": "python",
   "nbconvert_exporter": "python",
   "pygments_lexer": "ipython3",
   "version": "3.7.4"
  }
 },
 "nbformat": 4,
 "nbformat_minor": 2
}
