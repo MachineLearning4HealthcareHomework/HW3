{
 "cells": [
  {
   "cell_type": "code",
   "execution_count": 1,
   "metadata": {},
   "outputs": [
    {
     "name": "stderr",
     "output_type": "stream",
     "text": [
      "Using TensorFlow backend.\n"
     ]
    }
   ],
   "source": [
    "import numpy as np\n",
    "import tensorflow as tf\n",
    "import pandas as pd\n",
    "import matplotlib.pyplot as plt\n",
    "import seaborn as sns\n",
    "\n",
    "from sklearn import metrics\n",
    "from keras.callbacks import ModelCheckpoint\n",
    "from keras.utils import to_categorical"
   ]
  },
  {
   "cell_type": "code",
   "execution_count": 2,
   "metadata": {},
   "outputs": [],
   "source": [
    "train_images = np.load(\"./augmented_data_20/images_train.npy\")\n",
    "train_labels = np.load(\"./augmented_data_20/labels_train.npy\")\n",
    "\n",
    "train_images = train_images[..., np.newaxis]\n",
    "train_labels = train_labels[..., np.newaxis]\n",
    "\n",
    "U_net = tf.keras.models.load_model('U_net_v02_geo_sparse')\n",
    "\n",
    "file_path = \"U-net_v02_geo_sparse.h5\"\n",
    "checkpoint = ModelCheckpoint(file_path, monitor='val_acc', verbose=1, save_best_only=True, mode='max')\n",
    "callbacks_list = [checkpoint]"
   ]
  },
  {
   "cell_type": "code",
   "execution_count": 3,
   "metadata": {},
   "outputs": [
    {
     "name": "stdout",
     "output_type": "stream",
     "text": [
      "Original label shape: (13472, 256, 256, 1)\n"
     ]
    }
   ],
   "source": [
    "print(\"Original label shape: %s\" % (train_labels.shape,))"
   ]
  },
  {
   "cell_type": "markdown",
   "metadata": {},
   "source": [
    "## Convert the labels to categorical vectors - one hot encoded"
   ]
  },
  {
   "cell_type": "code",
   "execution_count": 4,
   "metadata": {},
   "outputs": [],
   "source": [
    "num_class = 3\n",
    "train_labels = train_labels[:,:,:,0] if(len(train_labels.shape) == 4) else train_labels[:,:,0]    \n",
    "new_train_labels = np.reshape(train_labels, [train_labels.shape[0], train_labels.shape[1]*train_labels.shape[2]])\n",
    "#new_train_labels = to_categorical(new_train_labels, num_classes=num_class, dtype='uint8')\n",
    "train_labels = new_train_labels"
   ]
  },
  {
   "cell_type": "code",
   "execution_count": 5,
   "metadata": {},
   "outputs": [
    {
     "name": "stdout",
     "output_type": "stream",
     "text": [
      "Vectorized new label shape: (13472, 65536)\n"
     ]
    }
   ],
   "source": [
    "print(\"Vectorized new label shape: %s\" % (train_labels.shape,))"
   ]
  },
  {
   "cell_type": "markdown",
   "metadata": {},
   "source": [
    "## Fit the U_net_v02_geo "
   ]
  },
  {
   "cell_type": "code",
   "execution_count": 8,
   "metadata": {},
   "outputs": [
    {
     "name": "stdout",
     "output_type": "stream",
     "text": [
      "Train on 10777 samples, validate on 2695 samples\n",
      "Epoch 1/5\n",
      "10777/10777 [==============================] - 3195s 296ms/sample - loss: 0.1595 - accuracy: 0.9438 - val_loss: 0.4366 - val_accuracy: 0.7912\n",
      "Epoch 2/5\n"
     ]
    },
    {
     "name": "stderr",
     "output_type": "stream",
     "text": [
      "C:\\Users\\geors\\Anaconda3\\lib\\site-packages\\keras\\callbacks\\callbacks.py:707: RuntimeWarning: Can save best model only with val_acc available, skipping.\n",
      "  'skipping.' % (self.monitor), RuntimeWarning)\n"
     ]
    },
    {
     "name": "stdout",
     "output_type": "stream",
     "text": [
      "10777/10777 [==============================] - 3201s 297ms/sample - loss: 0.1160 - accuracy: 0.9561 - val_loss: 0.1764 - val_accuracy: 0.9348\n",
      "Epoch 3/5\n",
      "10777/10777 [==============================] - 3936s 365ms/sample - loss: 0.0961 - accuracy: 0.9621 - val_loss: 0.0891 - val_accuracy: 0.9655\n",
      "Epoch 4/5\n",
      "10777/10777 [==============================] - 4358s 404ms/sample - loss: 0.0844 - accuracy: 0.9679 - val_loss: 0.1085 - val_accuracy: 0.9620\n",
      "Epoch 5/5\n",
      "10777/10777 [==============================] - 4031s 374ms/sample - loss: 0.0762 - accuracy: 0.9716 - val_loss: 0.0982 - val_accuracy: 0.9616\n"
     ]
    }
   ],
   "source": [
    "history = U_net.fit(train_images, train_labels, epochs= 5, validation_split=0.2, verbose=1, callbacks=callbacks_list)\n",
    "\n",
    "U_net.save_weights(\"U_net_v02_geo_sparse.h5\")"
   ]
  },
  {
   "cell_type": "markdown",
   "metadata": {},
   "source": [
    "## Get predicted labels"
   ]
  },
  {
   "cell_type": "code",
   "execution_count": 9,
   "metadata": {},
   "outputs": [],
   "source": [
    "images_test = np.load(\"./augmented_data_20/images_test.npy\")\n",
    "images_test = images_test[..., np.newaxis]"
   ]
  },
  {
   "cell_type": "code",
   "execution_count": 10,
   "metadata": {},
   "outputs": [],
   "source": [
    "U_net.load_weights(\"U_net_v02_geo_sparse.h5\")\n",
    "labels_test_pred = U_net.predict(images_test)"
   ]
  },
  {
   "cell_type": "code",
   "execution_count": 11,
   "metadata": {},
   "outputs": [],
   "source": [
    "np.save(\"./augmented_data_20/labels_test_pred_sparse\", labels_test_pred)"
   ]
  },
  {
   "cell_type": "markdown",
   "metadata": {},
   "source": [
    "## Evaluate the U-net"
   ]
  },
  {
   "cell_type": "code",
   "execution_count": 12,
   "metadata": {},
   "outputs": [],
   "source": [
    "labels_test_pred = np.load(\"./augmented_data_20/labels_test_pred_sparse.npy\")"
   ]
  },
  {
   "cell_type": "code",
   "execution_count": 13,
   "metadata": {},
   "outputs": [
    {
     "name": "stdout",
     "output_type": "stream",
     "text": [
      "Shape of test labels: (3368, 256, 256) \n",
      "Shape of predicted labels: (3368, 65536, 3)\n",
      "New test labels shape: (3368, 65536) \n"
     ]
    }
   ],
   "source": [
    "labels_test = np.load(\"./augmented_data_20/labels_test.npy\")\n",
    "labels_test = labels_test#[..., np.newaxis]\n",
    "print(\"Shape of test labels: %s \\nShape of predicted labels: %s\" % (labels_test.shape, labels_test_pred.shape))\n",
    "new_labels_test = np.reshape(labels_test, [labels_test.shape[0], labels_test.shape[1]*labels_test.shape[2]])\n",
    "print(\"New test labels shape: %s \" % (new_labels_test.shape,))"
   ]
  },
  {
   "cell_type": "code",
   "execution_count": 14,
   "metadata": {},
   "outputs": [
    {
     "data": {
      "text/plain": [
       "array([0.98468864, 0.01261205, 0.00269927], dtype=float32)"
      ]
     },
     "execution_count": 14,
     "metadata": {},
     "output_type": "execute_result"
    }
   ],
   "source": [
    "labels_test_pred[0][0]"
   ]
  },
  {
   "cell_type": "code",
   "execution_count": 15,
   "metadata": {},
   "outputs": [
    {
     "name": "stdout",
     "output_type": "stream",
     "text": [
      "New predicted labels shape: (3368, 65536) \n"
     ]
    }
   ],
   "source": [
    "labels_test_pred = np.argmax(labels_test_pred, axis=-1)\n",
    "print(\"New predicted labels shape: %s \" % (labels_test_pred.shape,))"
   ]
  },
  {
   "cell_type": "code",
   "execution_count": 16,
   "metadata": {},
   "outputs": [
    {
     "data": {
      "text/plain": [
       "[0.9621001173368259, 0.8736158541435554, 0.5541348917235247]"
      ]
     },
     "execution_count": 16,
     "metadata": {},
     "output_type": "execute_result"
    }
   ],
   "source": [
    "def get_scores(y_true, y_pred):\n",
    "    results=[]\n",
    "    y_true=y_true.flatten()\n",
    "    y_pred=y_pred.flatten()\n",
    "    #Overall precision\n",
    "    results.append(metrics.precision_score(y_true, y_pred, average='micro'))\n",
    "    #Per-class precision\n",
    "    results.append(metrics.precision_score(y_true, y_pred, average='macro'))\n",
    "    #jaccard (right average?)\n",
    "    results.append(metrics.jaccard_score(y_true, y_pred, average='macro'))\n",
    "    return results\n",
    "get_scores(new_labels_test, labels_test_pred)"
   ]
  },
  {
   "cell_type": "markdown",
   "metadata": {},
   "source": [
    "## Plot outcome"
   ]
  },
  {
   "cell_type": "code",
   "execution_count": 17,
   "metadata": {},
   "outputs": [
    {
     "data": {
      "text/plain": [
       "(3368, 256, 256)"
      ]
     },
     "execution_count": 17,
     "metadata": {},
     "output_type": "execute_result"
    }
   ],
   "source": [
    "# reshape back to original dimensions\n",
    "labels_test_pred_org = np.reshape(labels_test_pred, [labels_test_pred.shape[0], 256, 256])\n",
    "labels_test_pred_org.shape"
   ]
  },
  {
   "cell_type": "code",
   "execution_count": 18,
   "metadata": {},
   "outputs": [
    {
     "data": {
      "text/plain": [
       "array([0, 1, 2], dtype=int64)"
      ]
     },
     "execution_count": 18,
     "metadata": {},
     "output_type": "execute_result"
    }
   ],
   "source": [
    "np.unique(labels_test_pred_org)"
   ]
  },
  {
   "cell_type": "code",
   "execution_count": 19,
   "metadata": {},
   "outputs": [
    {
     "data": {
      "text/plain": [
       "<matplotlib.image.AxesImage at 0x1df89abac08>"
      ]
     },
     "execution_count": 19,
     "metadata": {},
     "output_type": "execute_result"
    },
    {
     "data": {
      "image/png": "[encoded data removed]",
      "text/plain": [
       "<Figure size 432x288 with 2 Axes>"
      ]
     },
     "metadata": {
      "needs_background": "light"
     },
     "output_type": "display_data"
    }
   ],
   "source": [
    "ind = 2\n",
    "plt.subplot(1,2,1)\n",
    "plt.imshow(labels_test[ind])\n",
    "plt.subplot(1,2,2)\n",
    "plt.imshow(labels_test_pred_org[ind])"
   ]
  },
  {
   "cell_type": "code",
   "execution_count": 20,
   "metadata": {},
   "outputs": [
    {
     "data": {
      "image/png": "[encoded data removed]",
      "text/plain": [
       "<Figure size 576x576 with 2 Axes>"
      ]
     },
     "metadata": {
      "needs_background": "light"
     },
     "output_type": "display_data"
    }
   ],
   "source": [
    "classes=[0,1,2]\n",
    "\n",
    "con_mat = tf.math.confusion_matrix(labels=new_labels_test.flatten(), predictions=labels_test_pred.flatten()).numpy()\n",
    "\n",
    "# Normalization of Confusion Matrix to the interpretation of which class is being misclassified.\n",
    "con_mat_norm = np.around(con_mat.astype('float') / con_mat.sum(axis=1)[:, np.newaxis], decimals=2)\n",
    " \n",
    "con_mat_df = pd.DataFrame(con_mat_norm, index = classes, columns = classes)\n",
    "\n",
    "# plot confusion matrix\n",
    "figure = plt.figure(figsize=(8, 8))\n",
    "sns.heatmap(con_mat_df, annot=True,cmap=plt.cm.Blues)\n",
    "plt.tight_layout()\n",
    "plt.ylabel('True label')\n",
    "plt.xlabel('Predicted label')\n",
    "plt.show()"
   ]
  }
 ],
 "metadata": {
  "kernelspec": {
   "display_name": "Python 3",
   "language": "python",
   "name": "python3"
  },
  "language_info": {
   "codemirror_mode": {
    "name": "ipython",
    "version": 3
   },
   "file_extension": ".py",
   "mimetype": "text/x-python",
   "name": "python",
   "nbconvert_exporter": "python",
   "pygments_lexer": "ipython3",
   "version": "3.7.6"
  }
 },
 "nbformat": 4,
 "nbformat_minor": 4
}
